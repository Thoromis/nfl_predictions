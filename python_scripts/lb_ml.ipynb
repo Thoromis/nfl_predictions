{
 "cells": [
  {
   "cell_type": "code",
   "execution_count": null,
   "metadata": {
    "collapsed": true
   },
   "outputs": [],
   "source": [
    "import nfl_machine_learning as nfl_ml\n",
    "import nfl_model_visualisation as nfl_vis\n",
    "import utils.ml_constants as utils\n",
    "import utils.unit_keys as Units"
   ]
  },
  {
   "cell_type": "code",
   "execution_count": null,
   "outputs": [],
   "source": [
    "x_train_lb, x_test_lb, y_train_lb, y_test_lb, players_train_lb, players_test_lb = nfl_ml.start_ml_pipeline(Units.LB.KEY,\n",
    "                                                                                                           random_search=False,\n",
    "                                                                                                           unbalanced=True,\n",
    "                                                                                                           scale_data=False)\n",
    "utils.persist_train_test_split(x_train_lb, x_test_lb, y_train_lb, y_test_lb, players_train_lb, players_test_lb,\n",
    "                               Units.LB.KEY)"
   ],
   "metadata": {
    "collapsed": false,
    "pycharm": {
     "name": "#%%\n"
    }
   }
  },
  {
   "cell_type": "code",
   "execution_count": null,
   "outputs": [],
   "source": [
    "x_train_lb, x_test_lb, y_train_lb, y_test_lb, players_train_lb, players_test_lb = utils.read_train_test_split(\n",
    "    Units.LB.KEY)\n",
    "nfl_vis.visualise_models(x_train_lb, x_test_lb, y_train_lb, y_test_lb, players_train_lb, players_test_lb, Units.LB.KEY)\n"
   ],
   "metadata": {
    "collapsed": false,
    "pycharm": {
     "name": "#%%\n"
    }
   }
  }
 ],
 "metadata": {
  "kernelspec": {
   "display_name": "Python 3",
   "language": "python",
   "name": "python3"
  },
  "language_info": {
   "codemirror_mode": {
    "name": "ipython",
    "version": 2
   },
   "file_extension": ".py",
   "mimetype": "text/x-python",
   "name": "python",
   "nbconvert_exporter": "python",
   "pygments_lexer": "ipython2",
   "version": "2.7.6"
  }
 },
 "nbformat": 4,
 "nbformat_minor": 0
}