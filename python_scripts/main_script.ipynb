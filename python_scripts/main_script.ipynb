{
 "cells": [
  {
   "cell_type": "code",
   "execution_count": 1,
   "metadata": {
    "collapsed": true
   },
   "outputs": [],
   "source": [
    "import football_utility_functions as nfl\n",
    "import college_data_processing as college_processing\n",
    "import nfl_data_processing as nfl_processing\n",
    "import merge_player_data as nfl_merge\n",
    "\n"
   ]
  },
  {
   "cell_type": "code",
   "execution_count": 2,
   "outputs": [
    {
     "name": "stdout",
     "output_type": "stream",
     "text": [
      "DL function called\n",
      "WR function called\n",
      "RB function called\n",
      "LB function called\n",
      "QB function called\n",
      "DB function called\n",
      "OL function called\n",
      "WR function called\n",
      "Kicker function called\n"
     ]
    }
   ],
   "source": [
    "college_processing.process_college_data()\n",
    "nfl_processing.process_nfl_data()\n",
    "nfl_merge.merge_player_data_from_files()\n"
   ],
   "metadata": {
    "collapsed": false,
    "pycharm": {
     "name": "#%% create combined files\n"
    }
   }
  }
 ],
 "metadata": {
  "kernelspec": {
   "display_name": "Python 3",
   "language": "python",
   "name": "python3"
  },
  "language_info": {
   "codemirror_mode": {
    "name": "ipython",
    "version": 2
   },
   "file_extension": ".py",
   "mimetype": "text/x-python",
   "name": "python",
   "nbconvert_exporter": "python",
   "pygments_lexer": "ipython2",
   "version": "2.7.6"
  }
 },
 "nbformat": 4,
 "nbformat_minor": 0
}