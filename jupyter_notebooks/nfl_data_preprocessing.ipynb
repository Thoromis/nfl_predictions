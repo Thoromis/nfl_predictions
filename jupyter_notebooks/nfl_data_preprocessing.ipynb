{
 "cells": [
  {
   "cell_type": "code",
   "execution_count": 2,
   "metadata": {
    "collapsed": true
   },
   "outputs": [],
   "source": [
    "import pandas as pd\n",
    "import python_scripts.football_utility_functions as nfl\n",
    "from IPython.display import display\n",
    "# import numpy as np\n",
    "# import glob\n",
    "# import matplotlib.pyplot as plt\n",
    "# from scipy.signal import savgol_filter\n",
    "# from scipy.interpolate import interp1d\n",
    "from sklearn.model_selection import train_test_split\n",
    "from sklearn.model_selection import TimeSeriesSplit"
   ]
  },
  {
   "cell_type": "code",
   "execution_count": 3,
   "outputs": [],
   "source": [
    "combined_roster = nfl.read_nfl_rosters_in_year_range(2009, 2019)\n",
    "receivering_stats = nfl.read_receiver_stats_for_players(combined_roster)\n",
    "\n",
    "# Combined receiver stats with names, now classify as either BUST or GOOD\n",
    "receivering_stats['Classification'] = receivering_stats.apply(axis=1, func=lambda x: nfl.classify_receiver(x))\n",
    "nfl.write_nfl_players_to_csv_no_stats(receivering_stats, 'wr_nfl_data.csv')"
   ],
   "metadata": {
    "collapsed": false,
    "pycharm": {
     "name": "#%%\n"
    }
   }
  }
 ],
 "metadata": {
  "kernelspec": {
   "display_name": "Python 3",
   "language": "python",
   "name": "python3"
  },
  "language_info": {
   "codemirror_mode": {
    "name": "ipython",
    "version": 2
   },
   "file_extension": ".py",
   "mimetype": "text/x-python",
   "name": "python",
   "nbconvert_exporter": "python",
   "pygments_lexer": "ipython2",
   "version": "2.7.6"
  }
 },
 "nbformat": 4,
 "nbformat_minor": 0
}