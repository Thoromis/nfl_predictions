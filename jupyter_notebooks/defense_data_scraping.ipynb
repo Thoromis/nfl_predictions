{
 "cells": [
  {
   "cell_type": "code",
   "execution_count": 1,
   "outputs": [],
   "source": [
    "import numpy as np\n",
    "import pandas as pd\n",
    "import python_scripts.football_utility_functions as file_utils\n",
    "import python_scripts.utils.data_parsing_defense as parsing_utils_defense\n",
    "\n",
    "\n",
    "def read_defensive_play_by_play_data(year):\n",
    "    # https://github.com/ryurko/nflscrapR-data/tree/master/legacy_data\n",
    "    play_by_play_data = file_utils.read_csv('../data_gitignore/reg_pbp_' + str(year) + '.csv')\n",
    "    player_statistics = pd.DataFrame(columns=parsing_utils_defense.defense_columns)\n",
    "    skipped_rows = 0\n",
    "\n",
    "    for index, play in play_by_play_data.iterrows():\n",
    "        # Check whether current play wasn't reversed or flagged\n",
    "        if (play['timeout'] != 0 and not pd.isna(play['timeout'])) or (\n",
    "                play['penalty'] != 0 and not pd.isna(play['penalty'])) or (\n",
    "                play['replay_or_challenge'] != 0 and not pd.isna(play['replay_or_challenge'])):\n",
    "            skipped_rows += 1\n",
    "            continue  # Skip row entirely        continue\n",
    "\n",
    "        current_row = pd.DataFrame(columns=parsing_utils_defense.defense_columns)\n",
    "        # CASE INTERCEPTION\n",
    "        if play['interception'] != 0 and not pd.isna(play['interception']):\n",
    "            current_row = parsing_utils_defense.handle_interceptions(play, player_statistics, current_row)\n",
    "        # CASE Tackle for loss # TODO too few\n",
    "        if play['tackled_for_loss'] != 0 and not pd.isna(play['tackled_for_loss']):\n",
    "            current_row = parsing_utils_defense.handle_tackles_for_loss(play, player_statistics, current_row)\n",
    "        # CASE Tackles solo\n",
    "        if play['solo_tackle'] != 0 and not pd.isna(play['solo_tackle']):\n",
    "            current_row = parsing_utils_defense.handle_solo_tackles(play, player_statistics, current_row)\n",
    "        # CASE Tackle assists\n",
    "        if play['assist_tackle'] != 0 and not pd.isna(play['assist_tackle']):\n",
    "            current_row = parsing_utils_defense.handle_assisted_tackles(play, player_statistics, current_row)\n",
    "        # CASE Fumble forced\n",
    "        if play['fumble_forced'] != 0 and not pd.isna(play['fumble_forced']):\n",
    "            current_row = parsing_utils_defense.handle_forced_fumbles(play, player_statistics, current_row)\n",
    "        # CASE Sack\n",
    "        if play['sack'] != 0 and not pd.isna(play['sack']):\n",
    "            current_row = parsing_utils_defense.handle_sacks(play, player_statistics, current_row)\n",
    "        # CASE QB Hit\n",
    "        if play['qb_hit'] != 0 and not pd.isna(play['qb_hit']):\n",
    "            current_row = parsing_utils_defense.handle_qb_hits(play, player_statistics, current_row)\n",
    "        # Incomplete passes against defender\n",
    "        if play['incomplete_pass'] != 0 and not pd.isna(play['incomplete_pass']):\n",
    "            current_row = parsing_utils_defense.handle_incomplete_passes(play, player_statistics, current_row)\n",
    "        # Fumble Recovery (fumble happened and was lost by the offensive team)\n",
    "        if play['fumble'] != 0 and not pd.isna(play['fumble']) and play['fumble_lost'] != 0 and not pd.isna(\n",
    "                play['fumble_lost']):\n",
    "            current_row = parsing_utils_defense.handle_fumble_recoveries(play, current_row)\n",
    "\n",
    "        # Clean statistics for the current row and add it into overall player statistics\n",
    "        for _, stat in current_row.iterrows():\n",
    "            stat = parsing_utils_defense.sanitize_stat_row(stat)\n",
    "            player_statistics = parsing_utils_defense.add_row_to_stats(player_statistics, stat)\n",
    "\n",
    "    player_statistics['total_tackles'] = player_statistics['solo_tackles'] + player_statistics['tackles_assist']\n",
    "    return player_statistics\n",
    "    #%%\n",
    "    #MAYBE Return yards on turnovers\n",
    "    #LATER total tackles\n",
    "\n",
    "    #TODO get rid of double solo/assisted tackles, etc."
   ],
   "metadata": {
    "collapsed": false,
    "pycharm": {
     "name": "#%%\n"
    }
   }
  },
  {
   "cell_type": "code",
   "execution_count": 2,
   "outputs": [],
   "source": [
    "def save_defensive_data_to_files():\n",
    "    for year in range(2009, 2020):  # years from 2009 - 2020 (excl.)\n",
    "        yearly_stats = read_defensive_play_by_play_data(year)\n",
    "        yearly_stats.to_csv('../data_gitignore/yearly_def_stats/def_stats_' + str(year) + '.csv')"
   ],
   "metadata": {
    "collapsed": false,
    "pycharm": {
     "name": "#%%\n"
    }
   }
  },
  {
   "cell_type": "code",
   "execution_count": 3,
   "outputs": [],
   "source": [
    "def read_defensive_data_from_files():\n",
    "    all_stats = pd.DataFrame()\n",
    "    for year in range(2009, 2020):\n",
    "        yearly_stats = file_utils.read_csv('../data_gitignore/yearly_def_stats/def_stats_' + str(year) + '.csv')\n",
    "        yearly_stats['season_helper'] = 1\n",
    "        all_stats = all_stats.append(yearly_stats)\n",
    "\n",
    "    all_stats = all_stats.iloc[:, 1:].groupby(['player_id', 'player_name'], as_index=False).sum()\n",
    "    return all_stats\n",
    "\n",
    "\n",
    "all_stats = read_defensive_data_from_files()"
   ],
   "metadata": {
    "collapsed": false,
    "pycharm": {
     "name": "#%% read in\n"
    }
   }
  },
  {
   "cell_type": "code",
   "execution_count": 4,
   "outputs": [],
   "source": [
    "def assign_position_from_id(row, rosters):\n",
    "    position = rosters.loc[rosters['gsis_id'] == row['player_id'], 'position']\n",
    "    if len(position) > 0:\n",
    "        return position.iloc[0]\n",
    "    else:\n",
    "        return np.nan"
   ],
   "metadata": {
    "collapsed": false,
    "pycharm": {
     "name": "#%%\n"
    }
   }
  },
  {
   "cell_type": "code",
   "execution_count": 5,
   "outputs": [],
   "source": [
    "rosters = pd.read_csv('../data_gitignore/nfl_rosters_2009_2019.csv')\n",
    "rosters = rosters.drop_duplicates(subset='gsis_id').iloc[:, 1:]\n",
    "\n",
    "all_stats['position'] = np.nan\n",
    "all_stats['position'] = all_stats.apply(lambda x: assign_position_from_id(x, rosters), axis=1)"
   ],
   "metadata": {
    "collapsed": false,
    "pycharm": {
     "name": "#%% Fetch rosters to find out defensive player positions\n"
    }
   }
  },
  {
   "cell_type": "code",
   "execution_count": 6,
   "outputs": [],
   "source": [
    "all_stats_with_positions = file_utils.normalize_positions_of_players(all_stats, 'position').dropna(subset=['unit_key'],\n",
    "                                                                                                   inplace=False)\n",
    "all_stats_with_positions.to_csv('../unprocessed_nfl_data/statistics/defensive_statistics.csv')"
   ],
   "metadata": {
    "collapsed": false,
    "pycharm": {
     "name": "#%% Normalize positions\n"
    }
   }
  }
 ],
 "metadata": {
  "kernelspec": {
   "display_name": "Python 3",
   "language": "python",
   "name": "python3"
  },
  "language_info": {
   "codemirror_mode": {
    "name": "ipython",
    "version": 2
   },
   "file_extension": ".py",
   "mimetype": "text/x-python",
   "name": "python",
   "nbconvert_exporter": "python",
   "pygments_lexer": "ipython2",
   "version": "2.7.6"
  }
 },
 "nbformat": 4,
 "nbformat_minor": 0
}