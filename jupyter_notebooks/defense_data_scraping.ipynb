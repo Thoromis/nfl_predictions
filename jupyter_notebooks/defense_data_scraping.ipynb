{
 "cells": [
  {
   "cell_type": "code",
   "execution_count": 1,
   "outputs": [
    {
     "name": "stderr",
     "output_type": "stream",
     "text": [
      "/Users/thomasmaier/Mirror/Hagenberg/FH/Unterlagen/Master/Project1/implementation/nfl_predictions/venv/lib/python3.7/site-packages/IPython/core/interactiveshell.py:3357: DtypeWarning: Columns (42,167,168,169,170,175,176,179,180,183,184,189,190,191,192,199,200,204,205,206,227,228,232,233,234,239,241,242,250) have mixed types.Specify dtype option on import or set low_memory=False.\n",
      "  if (await self.run_code(code, result,  async_=asy)):\n"
     ]
    }
   ],
   "source": [
    "import pandas as pd\n",
    "import python_scripts.football_utility_functions as file_utils\n",
    "import python_scripts.utils.data_parsing_defense as parsing_utils_defense\n",
    "\n",
    "# https://github.com/ryurko/nflscrapR-data/tree/master/legacy_data\n",
    "play_by_play_data = file_utils.read_csv('../data_gitignore/reg_pbp_2012.csv')\n",
    "\n",
    "#\n",
    "# print(play_by_play_data.head())\n",
    "\n",
    "#TODO cleanup data\n",
    "\n",
    "player_statistics = pd.DataFrame(columns=parsing_utils_defense.defense_columns)\n",
    "sack_plays = play_by_play_data.loc[play_by_play_data[\"sack\"] == 1]\n",
    "\n",
    "for index, play in play_by_play_data.iterrows():\n",
    "    # CASE INTERCEPTION\n",
    "    if play['interception'] != 0 and not pd.isna(play['interception']):\n",
    "        player_statistics = parsing_utils_defense.handle_interceptions(play, player_statistics)\n",
    "        continue\n",
    "    # CASE Tackle for loss # TODO too few\n",
    "    if play['tackled_for_loss'] != 0 and not pd.isna(play['tackled_for_loss']):\n",
    "        player_statistics = parsing_utils_defense.handle_tackles_for_loss(play, player_statistics)\n",
    "    # CASE Tackles solo\n",
    "    if play['solo_tackle'] != 0 and not pd.isna(play['solo_tackle']):\n",
    "        player_statistics = parsing_utils_defense.handle_solo_tackles(play, player_statistics)\n",
    "    # CASE Tackle assists\n",
    "    if play['assist_tackle'] != 0 and not pd.isna(play['assist_tackle']):\n",
    "        player_statistics = parsing_utils_defense.handle_assisted_tackles(play, player_statistics)\n",
    "    # CASE Fumble forced\n",
    "    if play['fumble_forced'] != 0 and not pd.isna(play['fumble_forced']):\n",
    "        player_statistics = parsing_utils_defense.handle_forced_fumbles(play, player_statistics)\n",
    "    # CASE Sack\n",
    "    if play['sack'] != 0 and not pd.isna(play['sack']):\n",
    "        player_statistics = parsing_utils_defense.handle_sacks(play, player_statistics)\n",
    "    # CASE QB Hit\n",
    "    if play['qb_hit'] != 0 and not pd.isna(play['qb_hit']):\n",
    "        player_statistics = parsing_utils_defense.handle_qb_hits(play, player_statistics)\n",
    "\n",
    "    #if index >= 10000:\n",
    "    #    break"
   ],
   "metadata": {
    "collapsed": false,
    "pycharm": {
     "name": "#%%\n"
    }
   }
  },
  {
   "cell_type": "code",
   "execution_count": 2,
   "outputs": [],
   "source": [
    "#TODO Pass defense (passes broken up/deflected)\n",
    "#TODO QB hurries?\n",
    "#TODO Fumble recoveries\n",
    "#TODO Return yards on turnovers\n",
    "#TODO total tackles"
   ],
   "metadata": {
    "collapsed": false,
    "pycharm": {
     "name": "#%%\n"
    }
   }
  },
  {
   "cell_type": "code",
   "execution_count": 2,
   "outputs": [],
   "source": [],
   "metadata": {
    "collapsed": false,
    "pycharm": {
     "name": "#%%\n"
    }
   }
  }
 ],
 "metadata": {
  "kernelspec": {
   "display_name": "Python 3",
   "language": "python",
   "name": "python3"
  },
  "language_info": {
   "codemirror_mode": {
    "name": "ipython",
    "version": 2
   },
   "file_extension": ".py",
   "mimetype": "text/x-python",
   "name": "python",
   "nbconvert_exporter": "python",
   "pygments_lexer": "ipython2",
   "version": "2.7.6"
  }
 },
 "nbformat": 4,
 "nbformat_minor": 0
}