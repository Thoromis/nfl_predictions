{
 "cells": [
  {
   "cell_type": "code",
   "execution_count": 1,
   "metadata": {
    "collapsed": true
   },
   "outputs": [],
   "source": [
    "import pandas as pd\n",
    "import python_scripts.football_utility_functions as nfl\n",
    "from IPython.display import display\n",
    "# import numpy as np\n",
    "# import glob\n",
    "# import matplotlib.pyplot as plt\n",
    "# from scipy.signal import savgol_filter\n",
    "# from scipy.interpolate import interp1d\n",
    "from sklearn.model_selection import train_test_split\n",
    "from sklearn.model_selection import TimeSeriesSplit\n",
    "# from sklearn.model_selection import LeaveOneOut"
   ]
  },
  {
   "cell_type": "code",
   "execution_count": 2,
   "outputs": [],
   "source": [
    "draft_data_sharpe = nfl.read_and_normalize_draft_file(\"../unprocessed_college_data/draft_picks/leesharpe/draft_picks.csv\", 'position')\n",
    "draft_data_taylor = nfl.read_and_normalize_draft_file(\"../unprocessed_college_data/draft_picks/seanjtaylor/drafts.csv\", 'pos')"
   ],
   "metadata": {
    "collapsed": false,
    "pycharm": {
     "name": "#%% Read in draft data\n"
    }
   }
  },
  {
   "cell_type": "code",
   "execution_count": 3,
   "outputs": [],
   "source": [
    "combine_data_taylor = nfl.read_and_normalize_combine_data('../unprocessed_college_data/draft_picks/seanjtaylor/combines.csv')"
   ],
   "metadata": {
    "collapsed": false,
    "pycharm": {
     "name": "#%%\n"
    }
   }
  },
  {
   "cell_type": "code",
   "execution_count": 4,
   "outputs": [],
   "source": [
    "player_data = pd.DataFrame()\n",
    "\n",
    "for i in range(2005, 2014):\n",
    "    data_for_year = nfl.read_and_normalize_player_data_for_year(i, 'Position')\n",
    "    player_data = player_data.append(data_for_year)"
   ],
   "metadata": {
    "collapsed": false,
    "pycharm": {
     "name": "#%% Read in player data in a loop\n"
    }
   }
  },
  {
   "cell_type": "code",
   "execution_count": 5,
   "outputs": [],
   "source": [
    "sharpe_merged_player_data = player_data.merge(draft_data_sharpe, left_on=['name', 'draft_season', 'unit_key'], right_on=['full_name','season','unit_key'])\n",
    "\n",
    "# left join so we keep also players that weren't drafted\n",
    "taylor_merged_player_data = player_data.merge(draft_data_taylor, how='left', left_on=['name', 'draft_season', 'unit_key'], right_on=['player', 'season', 'unit_key'])\n",
    "taylor_merged_player_data = taylor_merged_player_data.merge(combine_data_taylor, how='left', left_on=['draft_season', 'player', 'unit_key'], right_on=['season', 'player', 'unit_key'])"
   ],
   "metadata": {
    "collapsed": false,
    "pycharm": {
     "name": "#%% Merge player data with draft picks and rounds\n"
    }
   }
  },
  {
   "cell_type": "code",
   "execution_count": 6,
   "outputs": [],
   "source": [
    "taylor_merged_player_data = taylor_merged_player_data[['Player Code', 'Team Code', 'name', 'unit_key', 'season_x', 'draft_season', 'round', 'pick', 'team', 'age', 'to']]\n",
    "\n",
    "max_season = taylor_merged_player_data['season_x'].max()\n",
    "min_season = taylor_merged_player_data['season_x'].min()\n",
    "player_statistics = nfl.read_player_statistics_for_years(min_season, 2007)\n",
    "player_statistics = player_statistics.drop(columns=['Game Code'])"
   ],
   "metadata": {
    "collapsed": false,
    "pycharm": {
     "name": "#%% Pick columns we need from the merged sets (Using TAYLOR's data)\n"
    }
   }
  },
  {
   "cell_type": "code",
   "execution_count": 7,
   "outputs": [],
   "source": [
    "aggregated_stats = player_statistics.groupby('Player Code', as_index=False).sum()\n",
    "aggregated_stats = taylor_merged_player_data.merge(aggregated_stats, how='left', on='Player Code')"
   ],
   "metadata": {
    "collapsed": false,
    "pycharm": {
     "name": "#%% get aggregated stats to find out stats for different player positions\n"
    }
   }
  },
  {
   "cell_type": "code",
   "execution_count": 8,
   "outputs": [
    {
     "name": "stdout",
     "output_type": "stream",
     "text": [
      "DL function called\n",
      "WR function called\n",
      "RB function called\n",
      "LB function called\n",
      "QB function called\n",
      "DB function called\n",
      "OL function called\n",
      "WR function called\n",
      "Kicker function called\n"
     ]
    }
   ],
   "source": [
    "dl_data = nfl.get_position_specific_data(aggregated_stats, 'DL')\n",
    "wr_data = nfl.get_position_specific_data(aggregated_stats, 'WR')\n",
    "rb_data = nfl.get_position_specific_data(aggregated_stats, 'RB')\n",
    "lb_data = nfl.get_position_specific_data(aggregated_stats, 'LB')\n",
    "qb_data = nfl.get_position_specific_data(aggregated_stats, 'QB')\n",
    "db_data = nfl.get_position_specific_data(aggregated_stats, 'DB')\n",
    "ol_data = nfl.get_position_specific_data(aggregated_stats, 'OL')\n",
    "te_data = nfl.get_position_specific_data(aggregated_stats, 'TE')\n",
    "ki_data = nfl.get_position_specific_data(aggregated_stats, 'K')\n",
    "\n",
    "dl_data = nfl.drop_position_irrelevant_columns(dl_data, 'DL')\n",
    "wr_data = nfl.drop_position_irrelevant_columns(wr_data, 'WR')\n",
    "rb_data = nfl.drop_position_irrelevant_columns(rb_data, 'RB')\n",
    "lb_data = nfl.drop_position_irrelevant_columns(lb_data, 'LB')\n",
    "qb_data = nfl.drop_position_irrelevant_columns(qb_data, 'QB')\n",
    "db_data = nfl.drop_position_irrelevant_columns(db_data, 'DB')\n",
    "ol_data = nfl.drop_position_irrelevant_columns(ol_data, 'OL')\n",
    "te_data = nfl.drop_position_irrelevant_columns(te_data, 'TE')\n",
    "ki_data = nfl.drop_position_irrelevant_columns(ki_data, 'K')\n",
    "\n",
    "# TODO: Add team statistics for OLiner to have some stats"
   ],
   "metadata": {
    "collapsed": false,
    "pycharm": {
     "name": "#%%\n"
    }
   }
  },
  {
   "cell_type": "code",
   "execution_count": 12,
   "outputs": [],
   "source": [
    "positional_data = {\n",
    "    'DL': dl_data,\n",
    "    'WR': wr_data,\n",
    "    'RB': rb_data,\n",
    "    'LB': lb_data,\n",
    "    'QB': qb_data,\n",
    "    'DB': db_data,\n",
    "    'OL': ol_data,\n",
    "    'TE': te_data,\n",
    "    'KI': ki_data,\n",
    "}"
   ],
   "metadata": {
    "collapsed": false,
    "pycharm": {
     "name": "#%% Create map with positional key and the data for it then\n"
    }
   }
  },
  {
   "cell_type": "code",
   "execution_count": null,
   "outputs": [],
   "source": [
    "\n",
    "wr_data.to_csv(path_or_buf='../processed_data/wr_college_data.csv')"
   ],
   "metadata": {
    "collapsed": false,
    "pycharm": {
     "name": "#%% Merge duplicate player rows together\n"
    }
   }
  },
  {
   "cell_type": "code",
   "execution_count": 10,
   "outputs": [],
   "source": [
    "# ml_dataset = pd.DataFrame(positional_data.get('DL'))\n",
    "# train_data = ml_dataset.query('draft_season==2006')\n",
    "# test_data = ml_dataset.query('draft_season==2007')\n",
    "#\n",
    "# y_train = train_data['pick']\n",
    "# x_train = train_data.drop(columns=['round', 'pick'])\n",
    "# y_test = test_data['pick']\n",
    "# x_test = test_data.drop(columns=['round', 'pick'])\n",
    "\n",
    "\n",
    "\n",
    "# train_index, test_index = tscv.split(x)\n",
    "# X_train, X_test = x[train_index], x[test_index]\n",
    "# y_train, y_test = y[train_index], y[test_index]\n",
    "\n",
    "\n"
   ],
   "metadata": {
    "collapsed": false,
    "pycharm": {
     "name": "#%% Try to predict the draft rankings of the different positional groups\n"
    }
   }
  },
  {
   "cell_type": "code",
   "execution_count": 11,
   "outputs": [],
   "source": [
    "# sharpe_shape = sharpe_merged_player_data.shape\n",
    "# sharpe_counts = sharpe_merged_player_data[\"draft_season\"].value_counts()\n",
    "# sharpe_merged_2017 = sharpe_merged_player_data.query('draft_season==2007')\n",
    "# sharpe_merged_3_rounds = sharpe_merged_player_data.query('round<=3')\n",
    "# sharpe_counts = sharpe_merged_3_rounds[\"draft_season\"].value_counts()\n",
    "#\n",
    "# taylor_counts = taylor_merged_player_data[\"draft_season\"].value_counts()\n",
    "# taylor_merged_2017 = taylor_merged_player_data.query('draft_season==2007')\n",
    "# taylor_merged_3_rounds = taylor_merged_player_data.query('round<=3')\n",
    "# taylor_counts = taylor_merged_3_rounds[\"draft_season\"].value_counts()\n",
    "#\n",
    "# #%% new_data: Dataframe containing ID to identify player in all cfb files and also name to identify in all draft pick sets\n",
    "#\n",
    "# data_by_name_and_position = pd.DataFrame()\n",
    "# data_by_name_and_position[\"name\"] = player_data[\"name\"]\n",
    "# data_by_name_and_position[\"position\"] = player_data[\"Position\"]\n",
    "# data_by_name_and_position[\"id\"] = player_data[\"Player Code\"]\n",
    "# data_by_name_and_position.drop_duplicates(subset=[\"name\", \"position\"], inplace=True, keep=False)\n",
    "#"
   ],
   "metadata": {
    "collapsed": false,
    "pycharm": {
     "name": "#%%  Merged player data contains id for accessing all cfb stats, and draft pick + season\n"
    }
   }
  },
  {
   "cell_type": "code",
   "execution_count": 11,
   "outputs": [],
   "source": [],
   "metadata": {
    "collapsed": false,
    "pycharm": {
     "name": "#%%\n"
    }
   }
  }
 ],
 "metadata": {
  "kernelspec": {
   "display_name": "Python 3",
   "language": "python",
   "name": "python3"
  },
  "language_info": {
   "codemirror_mode": {
    "name": "ipython",
    "version": 2
   },
   "file_extension": ".py",
   "mimetype": "text/x-python",
   "name": "python",
   "nbconvert_exporter": "python",
   "pygments_lexer": "ipython2",
   "version": "2.7.6"
  }
 },
 "nbformat": 4,
 "nbformat_minor": 0
}