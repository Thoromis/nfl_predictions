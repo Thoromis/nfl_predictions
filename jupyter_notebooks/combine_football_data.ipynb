{
 "cells": [
  {
   "cell_type": "code",
   "execution_count": 2,
   "metadata": {
    "collapsed": true
   },
   "outputs": [],
   "source": [
    "import pandas as pd\n",
    "import python_scripts.football_utility_functions as nfl"
   ]
  },
  {
   "cell_type": "code",
   "execution_count": 5,
   "outputs": [],
   "source": [
    "wr_college_data = pd.read_csv('../processed_data/wr_college_data.csv').iloc[:, 1:]\n",
    "wr_nfl_data = pd.read_csv('../processed_data/wr_nfl_data.csv').iloc[:, 1:]"
   ],
   "metadata": {
    "collapsed": false,
    "pycharm": {
     "name": "#%%\n"
    }
   }
  },
  {
   "cell_type": "code",
   "execution_count": 6,
   "outputs": [],
   "source": [
    "wr_merged = wr_college_data.merge(wr_nfl_data, how='left', left_on=['name', 'unit_key'], right_on=['full_player_name', 'position'])"
   ],
   "metadata": {
    "collapsed": false,
    "pycharm": {
     "name": "#%% Combine NFL and College player data (merge based on ###)\n"
    }
   }
  }
 ],
 "metadata": {
  "kernelspec": {
   "display_name": "Python 3",
   "language": "python",
   "name": "python3"
  },
  "language_info": {
   "codemirror_mode": {
    "name": "ipython",
    "version": 2
   },
   "file_extension": ".py",
   "mimetype": "text/x-python",
   "name": "python",
   "nbconvert_exporter": "python",
   "pygments_lexer": "ipython2",
   "version": "2.7.6"
  }
 },
 "nbformat": 4,
 "nbformat_minor": 0
}